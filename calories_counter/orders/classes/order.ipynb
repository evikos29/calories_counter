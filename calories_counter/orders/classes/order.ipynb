{
 "cells": [
  {
   "cell_type": "code",
   "execution_count": 16,
   "metadata": {},
   "outputs": [],
   "source": [
    "import datetime\n",
    "\n",
    "class Order:\n",
    "   \"\"\"\n",
    "   This class represents an order.\n",
    "\n",
    "   Arguments:\n",
    "       items (list): A list of item ids.\n",
    "       date (datetime): The date and time of the order.\n",
    "\n",
    "   Class attributes:\n",
    "       counter (int): A counter for the number of orders.\n",
    "\n",
    "   Attributes:\n",
    "       order_id (str): A unique identifier for the order.\n",
    "       order_accepted (bool): Whether or not the order was accepted.\n",
    "       order_refused_reason (str): The reason the order was refused.\n",
    "       date (datetime): The date and time of the order.\n",
    "       items (list): A list of item ids.\n",
    "\n",
    "   Properties:\n",
    "       calories (int): The total calories for the order.\n",
    "       price (int): The total price for the order.\n",
    "   \"\"\"\n",
    "   counter = 0\n",
    "\n",
    "   def __init__(self, items, date=None):\n",
    "       self.order_id = f\"order-{Order.counter}\"\n",
    "       self.order_accepted = False\n",
    "       self.order_refused_reason = None\n",
    "       self.date = date if date is not None else datetime.datetime.now()\n",
    "       self.items = items\n",
    "       Order.counter += 1\n",
    "\n",
    "   @property\n",
    "   def calories(self):\n",
    "       return calories_counter(*self.items)\n",
    "\n",
    "   @property\n",
    "   def price(self):\n",
    "       return calculate_price(self.items, meals, combos)\n"
   ]
  }
 ],
 "metadata": {
  "kernelspec": {
   "display_name": "Python 3",
   "language": "python",
   "name": "python3"
  },
  "language_info": {
   "codemirror_mode": {
    "name": "ipython",
    "version": 3
   },
   "file_extension": ".py",
   "mimetype": "text/x-python",
   "name": "python",
   "nbconvert_exporter": "python",
   "pygments_lexer": "ipython3",
   "version": "3.9.6"
  },
  "orig_nbformat": 4
 },
 "nbformat": 4,
 "nbformat_minor": 2
}
