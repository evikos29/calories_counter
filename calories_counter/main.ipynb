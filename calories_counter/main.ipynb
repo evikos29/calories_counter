{
 "cells": [
  {
   "cell_type": "markdown",
   "metadata": {},
   "source": [
    "### First menu"
   ]
  },
  {
   "cell_type": "code",
   "execution_count": 16,
   "metadata": {},
   "outputs": [],
   "source": [
    "combos = {\n",
    "    \"Cheesy Combo\": [\"Cheese Burger\", \"Sweet Potatoes\", \"Lemonade\"],\n",
    "    \"Veggie Combo\": [\"Veggie Burger\", \"Sweet Potatoes\", \"Iced Tea\"],\n",
    "    \"Vegan Combo\": [\"Vegan Burger\", \"Salad\", \"Lemonade\"],\n",
    "   }\n",
    "calories = {\n",
    "    'Hamburger': 600,\n",
    "    'Cheese Burger': 750,\n",
    "    'Veggie Burger': 400,\n",
    "    'Vegan Burger': 350,\n",
    "    'Sweet Potatoes': 230,\n",
    "    'Salad': 15,\n",
    "    'Iced Tea': 70,\n",
    "    'Lemonade': 90,\n",
    "   }"
   ]
  },
  {
   "cell_type": "markdown",
   "metadata": {},
   "source": [
    "### Creating all needed functions using PEP-8 rules and recursive logic for calories_counter() "
   ]
  },
  {
   "cell_type": "code",
   "execution_count": 9,
   "metadata": {},
   "outputs": [
    {
     "name": "stdout",
     "output_type": "stream",
     "text": [
      "Choose items from the menu\n",
      "Hamburger\n",
      "Cheese Burger\n",
      "Veggie Burger\n",
      "Vegan Burger\n",
      "Sweet Potatoes\n",
      "Salad\n",
      "Iced Tea\n",
      "Lemonade\n",
      "The total amount of calories of dishes: 15.\n",
      "Combos available:\n",
      "Cheesy Combo\n",
      "Veggie Combo\n",
      "Vegan Combo\n",
      "The amount of calories in combos: 455.\n",
      "The total amount of calories: 470.\n"
     ]
    }
   ],
   "source": [
    "# Define the combos and their components\n",
    "\n",
    "def calories_counter(*args):\n",
    "    \"\"\"\n",
    "    This function calculates the total calories of the given items using recursive logic for combos.\n",
    "    \"\"\"\n",
    "    total_calories = 0\n",
    "    for item in args:\n",
    "        try:\n",
    "            if item in combos:\n",
    "                combo_calories = calories_counter(*combos[item])\n",
    "                total_calories += combo_calories\n",
    "            else:\n",
    "                total_calories += calories[item]\n",
    "        except KeyError:\n",
    "            print(f\"The item '{item}' is not on the menu.\")\n",
    "        except Exception as e:\n",
    "            print(f\"An error occurred: {e}\")\n",
    "    return total_calories\n",
    "\n",
    "\n",
    "\n",
    "def print_menu():\n",
    " \"\"\"\n",
    " This function prints the menu of available dishes.\n",
    " \"\"\"\n",
    " print(\"Choose items from the menu\")\n",
    " for item in calories:\n",
    "   print(item)\n",
    "\n",
    "def get_user_input():\n",
    " \"\"\"\n",
    " This function gets the user input and returns it as a list.\n",
    " \"\"\"\n",
    " user_input = input(\"Write the item with the ',' : \").split(',')\n",
    " return [item.strip() for item in user_input]\n",
    "\n",
    "def calculate_dish_calories():\n",
    " \"\"\"\n",
    " This function calculates the total calories of the dishes chosen by the user.\n",
    " \"\"\"\n",
    " dish_calories = calories_counter(*get_user_input())\n",
    " print(f\"The total amount of calories of dishes: {dish_calories}.\")\n",
    " return dish_calories\n",
    "\n",
    "class MealTooBigError(Exception):\n",
    " \"\"\"\n",
    " This is a custom exception that is raised when the total calories of the meal exceeds 2000.\n",
    " \"\"\"\n",
    " def __init__(self, dish_calories):\n",
    "   super().__init__(f\"The meal contains {dish_calories} calories, which is over 2000 calories. It's too big!\")\n",
    "\n",
    "def calculate_single_item_calories(item):\n",
    " \"\"\"\n",
    " This function calculates the calories of a single item.\n",
    " \"\"\"\n",
    " if item in calories:\n",
    "   return calories[item]\n",
    " else:\n",
    "   print(f\"Dish'{item}' isn't defined.\")\n",
    "   return 0\n",
    "\n",
    "def calculate_both(*combo_names):\n",
    " \"\"\"\n",
    " This function calculates the total calories of the given combos and adds them to the total calories of the dishes chosen by the user.\n",
    " \"\"\"\n",
    " total_calories = 0\n",
    " for combo_name in combo_names:\n",
    "   try:\n",
    "       combo_items = combos[combo_name]\n",
    "       total_calories += sum(calculate_single_item_calories(item) for item in combo_items)\n",
    "   except KeyError:\n",
    "       print(f\"Combo '{combo_name}' isn't defined.\")\n",
    " return total_calories\n",
    "\n",
    "def print_combos():\n",
    " \"\"\"\n",
    " This function prints the available combos.\n",
    " \"\"\"\n",
    " print(\"Combos available:\")\n",
    " for combo in combos:\n",
    "   print(combo)\n",
    "\n",
    "def main():\n",
    " \"\"\"\n",
    " This function is the main function that runs the program.\n",
    " \"\"\"\n",
    " print_menu()\n",
    " dish_calories = calculate_dish_calories()\n",
    " print_combos()\n",
    " combo_calories_amount = calculate_both(*get_user_input())\n",
    " print(f\"The amount of calories in combos: {combo_calories_amount}.\")\n",
    " dish_calories += combo_calories_amount\n",
    " print(f\"The total amount of calories: {dish_calories}.\")\n",
    " if dish_calories > 2000:\n",
    "   raise MealTooBigError(dish_calories)\n",
    "\n",
    "if __name__ == \"__main__\":\n",
    " main()"
   ]
  },
  {
   "cell_type": "markdown",
   "metadata": {},
   "source": [
    "### Using more complex data \n",
    "I've already created a menu file with combos and meals json"
   ]
  },
  {
   "cell_type": "code",
   "execution_count": 47,
   "metadata": {},
   "outputs": [
    {
     "name": "stdout",
     "output_type": "stream",
     "text": [
      "{'meal-1': {'id': 'meal-1', 'name': 'hamburger', 'calories': 600, 'price': 5}, 'meal-2': {'id': 'meal-2', 'name': 'cheese burger', 'calories': 750, 'price': 7}, 'meal-3': {'id': 'meal-3', 'name': 'veggie burger', 'calories': 400, 'price': 6}, 'meal-4': {'id': 'meal-4', 'name': 'vegan burger', 'calories': 350, 'price': 6}, 'meal-5': {'id': 'meal-5', 'name': 'sweet potatoes', 'calories': 230, 'price': 3}, 'meal-6': {'id': 'meal-6', 'name': 'salad', 'calories': 15, 'price': 4}, 'meal-7': {'id': 'meal-7', 'name': 'iced tea', 'calories': 70, 'price': 2}, 'meal-8': {'id': 'meal-8', 'name': 'lemonade', 'calories': 90, 'price': 2}}\n",
      "{'combo-1': {'id': 'combo-1', 'name': 'cheesy combo', 'meals': ['meal-2', 'meal-5', 'meal-8'], 'price': 11}, 'combo-2': {'id': 'combo-2', 'name': 'veggie combo', 'meals': ['meal-3', 'meal-5', 'meal-7'], 'price': 10}, 'combo-3': {'id': 'combo-3', 'name': 'vegan combo', 'meals': ['meal-4', 'meal-6', 'meal-8'], 'price': 10}}\n"
     ]
    }
   ],
   "source": [
    "import json\n",
    "\n",
    "# Load meals and combos from JSON files\n",
    "with open('orders/menu/meals.json') as f:\n",
    "    meals = json.load(f)\n",
    "with open('orders/menu/combos.json') as f:\n",
    "    combos = json.load(f)\n",
    "# Convert meals to a dictionary for easier lookup\n",
    "meals = {meal['id']: meal for meal in meals['meals']}\n",
    "combos = {combo['id']: combo for combo in combos['combos']}\n",
    "print(meals)\n",
    "print(combos)\n"
   ]
  },
  {
   "cell_type": "code",
   "execution_count": 48,
   "metadata": {},
   "outputs": [],
   "source": [
    "def calories_counter(*args):\n",
    "    \"\"\"\n",
    "    This function calculates the total calories of the given items using recursive logic for combos.\n",
    "    \"\"\"\n",
    "    total_calories = 0\n",
    "    for item in args:\n",
    "        try:\n",
    "            if item in combos:\n",
    "                combo_calories = calories_counter(*combos[item])\n",
    "                total_calories += combo_calories\n",
    "            elif item in meals:\n",
    "                total_calories += meals[item]['calories']\n",
    "            else:\n",
    "                print(f\"The item '{item}' is not on the menu.\")\n",
    "        except KeyError:\n",
    "            print(f\"An error occurred while calculating calories for '{item}'.\")\n",
    "    return total_calories"
   ]
  },
  {
   "cell_type": "markdown",
   "metadata": {},
   "source": [
    "### Counting the price"
   ]
  },
  {
   "cell_type": "code",
   "execution_count": 85,
   "metadata": {},
   "outputs": [
    {
     "name": "stdout",
     "output_type": "stream",
     "text": [
      "The total price is: $21\n"
     ]
    }
   ],
   "source": [
    "def calculate_price(items, meals_dict, combos_dict):\n",
    "    \"\"\"\n",
    "    Calculate the total price of a list of items (meals or combos).\n",
    "    \"\"\"\n",
    "    total_price = 0\n",
    "\n",
    "    for item_id in items:\n",
    "        if item_id in meals_dict:\n",
    "            total_price += meals_dict[item_id]['price']\n",
    "        elif item_id in combos_dict:\n",
    "            total_price += combos_dict[item_id]['price']\n",
    "        else:\n",
    "            print(f\"Item with ID '{item_id}' not found.\")\n",
    "\n",
    "    return total_price\n",
    "\n",
    "# Example usage\n",
    "selected_items = [\"meal-2\", \"meal-5\", \"combo-1\"]\n",
    "\n",
    "# Calculate the total price\n",
    "total_price = calculate_price(selected_items, meals_dict, combos_dict)\n",
    "\n",
    "print(f\"The total price is: ${total_price}\")"
   ]
  },
  {
   "cell_type": "markdown",
   "metadata": {},
   "source": [
    "### Let's continue OOP with class Order \n",
    "I've already created order class in order.classes file"
   ]
  },
  {
   "cell_type": "code",
   "execution_count": 91,
   "metadata": {},
   "outputs": [
    {
     "name": "stdout",
     "output_type": "stream",
     "text": [
      "Meal: cheese burger, Calories: 750, Price: 7\n",
      "Combo: cheesy combo, Calories: 1070, Price: 11\n",
      "Total Calories: 1820\n",
      "Total Price: 18\n"
     ]
    }
   ],
   "source": [
    "# Create an order\n",
    "selected_items = [\"meal-2\", \"combo-1\"]\n",
    "order = Order(selected_items)\n",
    "\n",
    "# Print all selected meals and combos, their calories, and prices\n",
    "for item_id in order.items:\n",
    "  if item_id in meals:\n",
    "      print(f\"Meal: {meals[item_id]['name']}, Calories: {meals[item_id]['calories']}, Price: {meals[item_id]['price']}\")\n",
    "  elif item_id in combos:\n",
    "      combo = combos[item_id]\n",
    "      print(f\"Combo: {combo['name']}, Calories: {calories_counter(*combo['meals'])}, Price: {combo['price']}\")\n",
    "\n",
    "# Print the total calories and price of the order\n",
    "print(f\"Total Calories: {order.calories}\")\n",
    "print(f\"Total Price: {order.price}\")\n"
   ]
  }
 ],
 "metadata": {
  "kernelspec": {
   "display_name": "Python 3",
   "language": "python",
   "name": "python3"
  },
  "language_info": {
   "codemirror_mode": {
    "name": "ipython",
    "version": 3
   },
   "file_extension": ".py",
   "mimetype": "text/x-python",
   "name": "python",
   "nbconvert_exporter": "python",
   "pygments_lexer": "ipython3",
   "version": "3.9.6"
  },
  "orig_nbformat": 4
 },
 "nbformat": 4,
 "nbformat_minor": 2
}
