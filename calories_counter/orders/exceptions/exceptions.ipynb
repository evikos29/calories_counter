{
 "cells": [
  {
   "cell_type": "code",
   "execution_count": 1,
   "metadata": {},
   "outputs": [],
   "source": [
    "class MealTooBigError(Exception):\n",
    " \"\"\"\n",
    " This is a custom exception that is raised when the total calories of the meal exceeds 2000.\n",
    " \"\"\"\n",
    " def __init__(self, dish_calories):\n",
    "     super().__init__(f\"The meal contains {dish_calories} calories, which is over 2000 calories. It's too big!\")"
   ]
  }
 ],
 "metadata": {
  "kernelspec": {
   "display_name": "Python 3",
   "language": "python",
   "name": "python3"
  },
  "language_info": {
   "codemirror_mode": {
    "name": "ipython",
    "version": 3
   },
   "file_extension": ".py",
   "mimetype": "text/x-python",
   "name": "python",
   "nbconvert_exporter": "python",
   "pygments_lexer": "ipython3",
   "version": "3.9.6"
  },
  "orig_nbformat": 4
 },
 "nbformat": 4,
 "nbformat_minor": 2
}
